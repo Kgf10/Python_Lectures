{
 "cells": [
  {
   "cell_type": "markdown",
   "id": "cdb33799",
   "metadata": {},
   "source": [
    "# Convert int into String"
   ]
  },
  {
   "cell_type": "code",
   "execution_count": 1,
   "id": "1ee24cdc",
   "metadata": {},
   "outputs": [
    {
     "name": "stdout",
     "output_type": "stream",
     "text": [
      "<class 'int'>\n"
     ]
    }
   ],
   "source": [
    "x = 5\n",
    "print(type(x))"
   ]
  },
  {
   "cell_type": "code",
   "execution_count": 5,
   "id": "52e56948",
   "metadata": {},
   "outputs": [
    {
     "name": "stdout",
     "output_type": "stream",
     "text": [
      "<class 'str'>\n"
     ]
    }
   ],
   "source": [
    "x = str(x)\n",
    "print(type(x))"
   ]
  },
  {
   "cell_type": "markdown",
   "id": "64ed9d2c",
   "metadata": {},
   "source": [
    "# Convert int into float"
   ]
  },
  {
   "cell_type": "code",
   "execution_count": 8,
   "id": "635ebaa9",
   "metadata": {},
   "outputs": [
    {
     "name": "stdout",
     "output_type": "stream",
     "text": [
      "<class 'float'>\n"
     ]
    }
   ],
   "source": [
    "x = 5\n",
    "x = float(x)\n",
    "print(type(x))"
   ]
  },
  {
   "cell_type": "markdown",
   "id": "d0463665",
   "metadata": {},
   "source": [
    "# Convert String into int"
   ]
  },
  {
   "cell_type": "code",
   "execution_count": 9,
   "id": "ebcf5f29",
   "metadata": {},
   "outputs": [
    {
     "name": "stdout",
     "output_type": "stream",
     "text": [
      "<class 'str'>\n"
     ]
    }
   ],
   "source": [
    "x = \"5\"\n",
    "print(type(x))"
   ]
  },
  {
   "cell_type": "code",
   "execution_count": 10,
   "id": "3dc4abfe",
   "metadata": {},
   "outputs": [
    {
     "name": "stdout",
     "output_type": "stream",
     "text": [
      "<class 'int'>\n"
     ]
    }
   ],
   "source": [
    "x = int(x)\n",
    "print(type(x))"
   ]
  },
  {
   "cell_type": "markdown",
   "id": "a4bc2b91",
   "metadata": {},
   "source": [
    "# @@ Multiple Line String @@"
   ]
  },
  {
   "cell_type": "code",
   "execution_count": 11,
   "id": "0f784f9c",
   "metadata": {},
   "outputs": [
    {
     "name": "stdout",
     "output_type": "stream",
     "text": [
      " hello how are you all\n",
      "this is your friend and host \n",
      "mr. Beast\n"
     ]
    }
   ],
   "source": [
    "a = \"\"\" hello how are you all\n",
    "this is your friend and host \n",
    "mr. Beast\"\"\"\n",
    "print(a)"
   ]
  },
  {
   "cell_type": "code",
   "execution_count": 13,
   "id": "8d6d8a42",
   "metadata": {},
   "outputs": [
    {
     "name": "stdout",
     "output_type": "stream",
     "text": [
      " hello how are you all\n",
      "this is your friend and host \n",
      "mr. Beast\n"
     ]
    }
   ],
   "source": [
    "a = ''' hello how are you all\n",
    "this is your friend and host \n",
    "mr. Beast'''\n",
    "print(a)"
   ]
  },
  {
   "cell_type": "markdown",
   "id": "cd0ef86f",
   "metadata": {},
   "source": [
    "# Print elements using .format()"
   ]
  },
  {
   "cell_type": "code",
   "execution_count": 19,
   "id": "440bdfc1",
   "metadata": {},
   "outputs": [
    {
     "name": "stdout",
     "output_type": "stream",
     "text": [
      "5\n"
     ]
    }
   ],
   "source": [
    "x = 5\n",
    "print('{}'.format(x))"
   ]
  },
  {
   "cell_type": "code",
   "execution_count": 21,
   "id": "e454c41a",
   "metadata": {},
   "outputs": [
    {
     "name": "stdout",
     "output_type": "stream",
     "text": [
      "asus hp mac\n"
     ]
    }
   ],
   "source": [
    "a = 'asus'\n",
    "b = 'hp'\n",
    "c = 'mac'\n",
    "print('{} {} {}'.format(a,b,c))"
   ]
  },
  {
   "cell_type": "code",
   "execution_count": 26,
   "id": "78564349",
   "metadata": {},
   "outputs": [
    {
     "name": "stdout",
     "output_type": "stream",
     "text": [
      " mac \n",
      " hp \n",
      " asus\n"
     ]
    }
   ],
   "source": [
    "a = 'asus'\n",
    "b = 'hp'\n",
    "c = 'mac'\n",
    "#Using \\n for one line spacing\n",
    "print(' {2} \\n {1} \\n {0}'.format(a,b,c))"
   ]
  },
  {
   "cell_type": "code",
   "execution_count": 38,
   "id": "479991eb",
   "metadata": {},
   "outputs": [
    {
     "name": "stdout",
     "output_type": "stream",
     "text": [
      " a s u s\n"
     ]
    }
   ],
   "source": [
    "print(' {0} {1} {2} {3}'.format(*'asus'))"
   ]
  },
  {
   "cell_type": "code",
   "execution_count": 39,
   "id": "9fdcc21f",
   "metadata": {},
   "outputs": [
    {
     "name": "stdout",
     "output_type": "stream",
     "text": [
      "5 6 7\n"
     ]
    }
   ],
   "source": [
    "print('{a} {b} {c}'.format(a='5',b='6',c='7'))"
   ]
  },
  {
   "cell_type": "code",
   "execution_count": 41,
   "id": "93e9235e",
   "metadata": {},
   "outputs": [
    {
     "name": "stdout",
     "output_type": "stream",
     "text": [
      "asus hp mac\n"
     ]
    }
   ],
   "source": [
    "print('{0} {1} {2}'.format('asus','hp','mac'))"
   ]
  },
  {
   "cell_type": "code",
   "execution_count": null,
   "id": "04d0f303",
   "metadata": {},
   "outputs": [],
   "source": []
  }
 ],
 "metadata": {
  "kernelspec": {
   "display_name": "Python 3 (ipykernel)",
   "language": "python",
   "name": "python3"
  },
  "language_info": {
   "codemirror_mode": {
    "name": "ipython",
    "version": 3
   },
   "file_extension": ".py",
   "mimetype": "text/x-python",
   "name": "python",
   "nbconvert_exporter": "python",
   "pygments_lexer": "ipython3",
   "version": "3.9.12"
  }
 },
 "nbformat": 4,
 "nbformat_minor": 5
}
